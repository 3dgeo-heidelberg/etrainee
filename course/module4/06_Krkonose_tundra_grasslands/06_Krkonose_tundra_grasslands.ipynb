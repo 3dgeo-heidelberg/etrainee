{
 "cells": [
  {
   "cell_type": "markdown",
   "id": "58f4ed34",
   "metadata": {},
   "source": [
    "Random Forest classification "
   ]
  },
  {
   "cell_type": "code",
   "execution_count": null,
   "id": "c755ea0e",
   "metadata": {},
   "outputs": [],
   "source": [
    "# Import libraries\n",
    "# =============================================================================\n",
    "# This loads required packages (and installs them if necessary)\n",
    "l_packages <- c(\"raster\", \"rgdal\", \"randomForest\", \"glcm\")\n",
    "for (package in l_packages){\n",
    "  if(! package %in% installed.packages()){\n",
    "    install.packages(package, dependencies = TRUE)\n",
    "  }\n",
    "  library(package, character.only = T)\n",
    "}"
   ]
  },
  {
   "cell_type": "code",
   "execution_count": null,
   "id": "bcba1190",
   "metadata": {},
   "outputs": [],
   "source": [
    "# Set working directory - insert path to your data\n",
    "setwd(\"data\")\n",
    "getwd()"
   ]
  },
  {
   "cell_type": "code",
   "execution_count": null,
   "id": "c7b9500b",
   "metadata": {},
   "outputs": [],
   "source": [
    "# Load data\n",
    "# =============================================================================\n",
    "# Load input hyperspectral (HS) image\n",
    "img <- brick(\"BL_202006.tif\")"
   ]
  },
  {
   "cell_type": "code",
   "execution_count": null,
   "id": "7ad9ad3a",
   "metadata": {},
   "outputs": [],
   "source": [
    "# Assign band names to image\n",
    "names(img) <-  paste0(\"B\", c(1:54))"
   ]
  },
  {
   "cell_type": "code",
   "execution_count": null,
   "id": "83f87731",
   "metadata": {},
   "outputs": [],
   "source": [
    "# Load vector training data\n",
    "training <- readOGR(dsn=getwd(), layer=\"train_polygons\") # dsn name of folder containing shp, with the name in layer\n",
    "View(training)"
   ]
  },
  {
   "cell_type": "code",
   "execution_count": null,
   "id": "b8625876",
   "metadata": {},
   "outputs": [],
   "source": [
    "# Vizualize of image and training data for control\n",
    "plot(img$B3)\n",
    "plot(training, bg=\"transparent\", add=TRUE)"
   ]
  },
  {
   "cell_type": "code",
   "execution_count": null,
   "id": "f83b80c5",
   "metadata": {},
   "outputs": [],
   "source": [
    "# Feature extraction\n",
    "# =============================================================================\n",
    "# Calculate GLCM textures from each spectral band\n",
    "# TAKES LONG TIME!!!\n",
    "out <- list()\n",
    "for(band in 1:dim(img)[3]) {\n",
    "  out[band] <- glcm::glcm(img[[band]], window = c(3, 3), na_opt = 'center', \n",
    "                       statistics = c(\"mean\", \"variance\", \"homogeneity\", \"contrast\",\n",
    "                                      \"dissimilarity\", \"entropy\", \"second_moment\"))\n",
    "  print(paste0('Finished computing textures for band #', band, '/', dim(img)[3]))\n",
    "}\n",
    "textures <- stack(out)"
   ]
  },
  {
   "cell_type": "code",
   "execution_count": null,
   "id": "e88f48f9",
   "metadata": {},
   "outputs": [],
   "source": [
    "# Stack image and textures\n",
    "predictors <- stack(img, textures)"
   ]
  },
  {
   "cell_type": "code",
   "execution_count": null,
   "id": "18a992db",
   "metadata": {},
   "outputs": [],
   "source": [
    "# Preparation of training data\n",
    "# Extract raster values from training polygons\n",
    "df_features <- extract(predictors, training, df=TRUE) # TAKES LONG TIME!!!"
   ]
  },
  {
   "cell_type": "code",
   "execution_count": null,
   "id": "f3d89b69",
   "metadata": {},
   "outputs": [],
   "source": [
    "# Remove rows with nodata values\n",
    "training <- na.omit(df_features)\n",
    "# Rename column ID to Classvalue\n",
    "names(training)[names(training) == 'ID'] <- 'Classvalue'"
   ]
  },
  {
   "cell_type": "code",
   "execution_count": null,
   "id": "770a9548",
   "metadata": {},
   "outputs": [],
   "source": [
    "# See number of features for each class\n",
    "table(training$Classvalue)"
   ]
  },
  {
   "cell_type": "code",
   "execution_count": null,
   "id": "1252b87a",
   "metadata": {},
   "outputs": [],
   "source": [
    "# Train + Apply a RF model\n",
    "# =============================================================================\n",
    "# TAKES LONG TIME!!\n",
    "model <- randomForest(as.factor(Classvalue) ~.,data=training,\n",
    "                      ntree=100, importance=TRUE, do.trace=50) ### original model had ntree=1000"
   ]
  },
  {
   "cell_type": "code",
   "execution_count": null,
   "id": "8e6be464",
   "metadata": {},
   "outputs": [],
   "source": [
    "# Classify image using trained model\n",
    "predicted <- predict(predictors, model)"
   ]
  },
  {
   "cell_type": "code",
   "execution_count": null,
   "id": "c7c4e152",
   "metadata": {},
   "outputs": [],
   "source": [
    "# Vizualize classification\n",
    "plot(predicted, main = 'Classification Random Forest')"
   ]
  },
  {
   "cell_type": "code",
   "execution_count": null,
   "id": "b2405892",
   "metadata": {},
   "outputs": [],
   "source": [
    "# Print information about the trained model\n",
    "model"
   ]
  },
  {
   "cell_type": "code",
   "execution_count": null,
   "id": "cf290bfd",
   "metadata": {},
   "outputs": [],
   "source": [
    "# Export feature importance table\n",
    "feature_importance <- model$importance\n",
    "write.table(feature_importance, \"BL_202006_RF_feature_importance.txt\")"
   ]
  },
  {
   "cell_type": "code",
   "execution_count": null,
   "id": "8df83e1b",
   "metadata": {},
   "outputs": [],
   "source": [
    "# Save classification as a raster\n",
    "writeRaster(predicted, filename=\"BL_202006_RF_classified.tif\",overwrite=TRUE)"
   ]
  },
  {
   "cell_type": "code",
   "execution_count": null,
   "id": "0f087538",
   "metadata": {},
   "outputs": [],
   "source": []
  },
  {
   "cell_type": "code",
   "execution_count": null,
   "id": "d2cae128",
   "metadata": {},
   "outputs": [],
   "source": []
  },
  {
   "cell_type": "code",
   "execution_count": null,
   "id": "53ad20a1",
   "metadata": {},
   "outputs": [],
   "source": [
    "            "
   ]
  }
 ],
 "metadata": {
  "jupytext": {
   "cell_metadata_filter": "-all",
   "notebook_metadata_filter": "-all"
  },
  "kernelspec": {
   "display_name": "R",
   "language": "R",
   "name": "ir"
  },
  "language_info": {
   "codemirror_mode": "r",
   "file_extension": ".r",
   "mimetype": "text/x-r-source",
   "name": "R",
   "pygments_lexer": "r",
   "version": "4.1.3"
  }
 },
 "nbformat": 4,
 "nbformat_minor": 5
}
