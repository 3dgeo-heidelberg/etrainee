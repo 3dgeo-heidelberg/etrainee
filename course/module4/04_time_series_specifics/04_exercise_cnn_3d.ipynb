{
 "cells": [
  {
   "cell_type": "markdown",
   "id": "830d7f4c",
   "metadata": {},
   "source": [
    "# Training a 1D Convolutional Neural Network for hyperspectral data classification\n",
    "\n",
    "In this notebook, you will train and apply a one-dimensional convolutional neural network for classification of hyperspectral data from Pavia City centre, Italy or Luční Hora, Krkonoše mountains, Czechia.\n",
    "\n",
    "We recommend running this notebook in its online version using Google Colab (You need a Google account to use Colab). The online notebook is available from **missing link**.\n",
    "\n",
    "Pavia city centre is a common benchmark for hyperspectral data classification and can be obtained from http://www.ehu.eus/ccwintco/index.php/Hyperspectral_Remote_Sensing_Scenes#Pavia_Centre_and_University\n",
    "\n",
    "Our dataset from Luční Hora is currently not publicly available, but we are working on providing it in the future."
   ]
  },
  {
   "cell_type": "markdown",
   "id": "d268a641",
   "metadata": {},
   "source": [
    "## Structure of this exercise\n",
    "\n",
    "What are you going to encounter during this exercise.\n",
    "\n",
    "0. Load libraries, set paths\n",
    "1. Load and Preprocess training data\n",
    "2. Neural Network Definition / Training\n",
    "3. Apply Network\n",
    "4. Evaluate Result\n",
    "5. Sample Solution"
   ]
  },
  {
   "cell_type": "markdown",
   "id": "fd3ad522",
   "metadata": {},
   "source": [
    "## 0. Load external libraries and set paths\n",
    "\n",
    "First, we need to import external libraries:\n",
    "\n",
    "- __torch, torch.nn, torch.optim, torchnet__ - Pytorch related libraries for deep learning\n",
    "- __numpy__ - Arrays to hold our data\n",
    "- __matplotlib.pyplot__ - Draw images\n",
    "- __sklearn.model_selection__ - Cross-validation implemented in scikit-learn\n",
    "- __sklearn.metrics__ - Compute accuracy metrics using scikit-learn\n",
    "- __time.perf_counter__ - Track how long individual functions take to run\n",
    "- __os.path__ - Path manipulation\n",
    "- __tqdm__ - show progress bars during training\n",
    "\n",
    "- __image_preprocessing__ - Our library holding functions for image tiling, preprocessing, etc.\n",
    "- __inference_utils__ - Our library for correctly exporting classifed images\n",
    "- __visualisation_utils__ - Our library for visualising the data\n",
    "\n",
    "Two external libraries are not imported directly in this notebook, but are used by functions in _image_preprocessing_ and _inference_utils_:\n",
    "\n",
    "- __gdal__ - Manipulates spatial data\n",
    "- __scipy.io__ - Reads .mat files"
   ]
  },
  {
   "cell_type": "code",
   "execution_count": null,
   "id": "blond-celebration",
   "metadata": {},
   "outputs": [],
   "source": [
    "import torch\n",
    "import torch.nn as nn\n",
    "import torch.optim as optim\n",
    "import torchnet as tnt\n",
    "\n",
    "import numpy as np\n",
    "import matplotlib.pyplot as plt\n",
    "\n",
    "from os.path import join\n",
    "from time import perf_counter\n",
    "from tqdm import notebook as tqdm\n",
    "\n",
    "from sklearn.model_selection import KFold, StratifiedKFold\n",
    "from sklearn.metrics import classification_report\n",
    "\n",
    "import image_preprocessing\n",
    "import inference_utils\n",
    "import visualisation_utils\n",
    "\n",
    "# GLOBAL SETTINGS\n",
    "plt.rcParams['figure.figsize'] = [4, 4]\n",
    "np.set_printoptions(precision=2, suppress=True)  # Array print precision"
   ]
  },
  {
   "cell_type": "code",
   "execution_count": null,
   "id": "7c25dba8",
   "metadata": {},
   "outputs": [],
   "source": [
    "# Set dataset name (used by visualisation functions) - 'krknonose' or 'pavia_centre'\n",
    "# default: 'pavia_centre'\n",
    "ds_name = 'krkonose'\n",
    "\n",
    "# Get a list of class names\n",
    "_, class_names = visualisation_utils._create_colorlist_classnames(ds_name=ds_name)"
   ]
  },
  {
   "cell_type": "markdown",
   "id": "21dc4ba3",
   "metadata": {},
   "source": [
    "Please fill correct paths to your training and reference rasters (just pointing the _root_path_ variable to the project folder should do):"
   ]
  },
  {
   "cell_type": "code",
   "execution_count": null,
   "id": "a53c85ff",
   "metadata": {},
   "outputs": [],
   "source": [
    "root_path = 'f:/datasets/etrainee'\n",
    "# root_path = 'C:/folder/where/this/project/is/saved'\n",
    "\n",
    "# PATHS TO TRAINING DATA\n",
    "# Krkonose\n",
    "imagery_path = join(root_path, 'LH_202008_54bands_9cm.tif')\n",
    "train_path   = join(root_path, 'LH_202008_train.tif')\n",
    "test_path    = join(root_path, 'LH_202008_test.tif')\n",
    "# Pavia\n",
    "#imagery_path = join(root_path, 'Pavia.mat')\n",
    "#train_path   = join(root_path, 'Pavia_gt.mat')\n",
    "#test_path    = join(root_path, 'Pavia_gt.mat')\n",
    "\n",
    "# PATH TO SAVE MODELS\n",
    "model_save_folder = join(root_path, 'models')\n",
    "\n",
    "# PATH TO SAVE CLASSIFIED IMAGE\n",
    "out_path = join(root_path, 'results/Krkonose_1D_CNN.tif')\n",
    "\n",
    "# PATH TO THE SAMPLE RESULTS\n",
    "sample_result_path = join(root_path, 'sample_results/1D_CNN_sample_result.tif')"
   ]
  },
  {
   "cell_type": "markdown",
   "id": "f78d0067",
   "metadata": {},
   "source": [
    "## 1. Loading and preprocessing training data"
   ]
  },
  {
   "cell_type": "markdown",
   "id": "23788ed7",
   "metadata": {},
   "source": [
    "### 1.1. Data loading into NumPy\n",
    "Let's start by reading an image into a numpy array, we do this in the background using GDAL.\n",
    "\n",
    "The result of our function is a dictionary named _loaded_raster_, which contains two numpy arrays under keys _imagery_ and _reference_. As we can see, the loaded hyperspectral dataset has 1088 by 1088 pixels with 54 spectral bands. The raster containing our reference data for training has the same height and width.\n",
    "\n",
    "For loading most raster datasets, we created a _read_gdal()_ function in the _image_preprocessing_ module. But loading .mat files for the Pavia City Centre requires a specific function (_read_pavia_centre()_). Both _read_pavia_centre()_ and _read_gdal()_ return a dictionary containing two numpy arrays with keys _imagery_ and _reference_.\n",
    "\n",
    "If using the Pavia City Centre dataset, you may notice that the original image has a shape of (1096, 1096, 102), but to make the data easier to tile for neural networks, we crop the image to (1088, 1088, 102) here."
   ]
  },
  {
   "cell_type": "code",
   "execution_count": null,
   "id": "funky-scratch",
   "metadata": {},
   "outputs": [],
   "source": [
    "loaded_raster = image_preprocessing.read_gdal(imagery_path, train_path)\n",
    "#loaded_raster = image_preprocessing.read_pavia_centre(imagery_path,\n",
    "    # train_path, out_shape=(1088, 1088, 102))\n",
    "\n",
    "print(f'Tiled imagery shape {loaded_raster[\"imagery\"].shape}')\n",
    "print(f'Tiled reference shape {loaded_raster[\"reference\"].shape}')"
   ]
  },
  {
   "cell_type": "code",
   "execution_count": null,
   "id": "mobile-orbit",
   "metadata": {},
   "outputs": [],
   "source": [
    "visualisation_utils.show_img_ref(loaded_raster[\"imagery\"][:, :, [25, 15, 5]],\n",
    "                                 loaded_raster[\"reference\"],\n",
    "                                 ds_name=ds_name)"
   ]
  },
  {
   "cell_type": "markdown",
   "id": "6bcfaef6",
   "metadata": {},
   "source": [
    "### 1.2. Image tiling\n",
    "We have our data loaded into a numpy array, the next step is to divide the image into individual tiles, which will be the input for our neural network.\n",
    "\n",
    "As we want to perform convolution only in the spectral dimension, we need to divide the hyperspectral image into tiles of individual pixels, this is ensured by setting the variable _tile_shape_ as (1, 1).\n",
    "_overlap_ is not needed for one-dimensional processing.\n",
    "\n",
    "This process creates 1 183 744 \"tiles\" of 1 by 1 pixels, with the same amount of spectral bands as earlier."
   ]
  },
  {
   "cell_type": "code",
   "execution_count": null,
   "id": "veterinary-feeling",
   "metadata": {},
   "outputs": [],
   "source": [
    "tile_shape = (1, 1)\n",
    "overlap = 0\n",
    "\n",
    "dataset_tiles = image_preprocessing.tile_training(loaded_raster,\n",
    "                                                  tile_shape,\n",
    "                                                  overlap)\n",
    "\n",
    "print(f'Tiled imagery shape {dataset_tiles[\"imagery\"].shape}')\n",
    "print(f'Tiled reference shape {dataset_tiles[\"reference\"].shape}')"
   ]
  },
  {
   "cell_type": "markdown",
   "id": "a3b33f51",
   "metadata": {},
   "source": [
    "### 1.3. Tile filtration\n",
    "However, most of the created tiles do not contain training data, we therefore need to filter them and only keep the tiles with a field-collected reference.\n",
    "\n",
    "This process significantly reduces the size of our dataset from 1 183 744 to 48 370 - training data is available on less than 2 percent of the dataset."
   ]
  },
  {
   "cell_type": "code",
   "execution_count": null,
   "id": "second-karaoke",
   "metadata": {},
   "outputs": [],
   "source": [
    "filtered_tiles = image_preprocessing.filter_useful_tiles(dataset_tiles,\n",
    "                                                         nodata_vals=[0],\n",
    "                                                         is_training=True)\n",
    "\n",
    "print(f'Filtered imagery shape {filtered_tiles[\"imagery\"].shape}')\n",
    "print(f'Filtered reference shape {filtered_tiles[\"reference\"].shape}')"
   ]
  },
  {
   "cell_type": "markdown",
   "id": "0975aaab",
   "metadata": {},
   "source": [
    "Let's have a look at spectral curves of the individual pixels, change _tile_number_ to see different pixels."
   ]
  },
  {
   "cell_type": "code",
   "execution_count": null,
   "id": "every-material",
   "metadata": {},
   "outputs": [],
   "source": [
    "tile_number = 400\n",
    "visualisation_utils.show_spectral_curve(filtered_tiles, tile_number,\n",
    "                                        ds_name=ds_name)"
   ]
  },
  {
   "cell_type": "markdown",
   "id": "20aece8e",
   "metadata": {},
   "source": [
    "### 1.4. Data normalization\n",
    "After filtering the tiles to only include training data, we can move onto a final part of the preprocessing - data normalization. In Machine Learning, it is common to normalize all data before classification."
   ]
  },
  {
   "cell_type": "code",
   "execution_count": null,
   "id": "essential-delicious",
   "metadata": {},
   "outputs": [],
   "source": [
    "preprocessed_tiles, unique, counts = image_preprocessing.normalize_tiles_1d(filtered_tiles, nodata_vals=[65535], is_training=True)\n",
    "print(f'Preprocessed imagery shape {preprocessed_tiles[\"imagery\"].shape}')\n",
    "print(f'Preprocessed reference shape {preprocessed_tiles[\"reference\"].shape}')"
   ]
  },
  {
   "cell_type": "code",
   "execution_count": null,
   "id": "incorporate-freeware",
   "metadata": {
    "scrolled": true
   },
   "outputs": [],
   "source": [
    "tile_number = 400\n",
    "visualisation_utils.show_spectral_curve(preprocessed_tiles,\n",
    "                                        tile_number,\n",
    "                                        ds_name=ds_name)"
   ]
  },
  {
   "cell_type": "markdown",
   "id": "5be08ad9",
   "metadata": {},
   "source": [
    "The resulting dictionary _preprocessed_tiles_ is subsequently transformed from numpy arrays into pytorch tensors for training."
   ]
  },
  {
   "cell_type": "code",
   "execution_count": null,
   "id": "ff1822f4",
   "metadata": {},
   "outputs": [],
   "source": [
    "dataset = tnt.dataset.TensorDataset([preprocessed_tiles['imagery'], preprocessed_tiles['reference']])\n",
    "print(dataset)\n",
    "\n",
    "print(f'Class labels: \\n{unique}\\n')\n",
    "print(f'Number of pixels in a class: \\n{counts}')"
   ]
  },
  {
   "cell_type": "markdown",
   "id": "bd02968d",
   "metadata": {},
   "source": [
    "## 2. Neural network definition\n",
    "\n",
    "After preprocessing our data, we can move onto defining our neural network and functions for training. You can either train your own neural network or use the one we already trained for you (_sample_results/1D_CNN_sample_trained.pt_). In case you are using the pretrained network, please run only the following code snippet (2.1.) and skip ahead to section 3."
   ]
  },
  {
   "cell_type": "markdown",
   "id": "6bbd7b73",
   "metadata": {},
   "source": [
    "### 2.1. Network structure\n",
    "\n",
    "Our network is named SpectralNet, and it's a fairly simple network with 1D convolutions followed by maxpooling and a set of fully-connected layers at the end. The structure of our network is defined in the SpectralNet class, which has three methods:\n",
    "- **__init__** - This method runs automatically when defining an instance of the class, it defines indiviudal layers of the networks (1D convolutions, fully connected layers, maxpooling and also a dropout layer).\n",
    "- **init_weights** - Randomly initialising network weights based on a normal distribution.\n",
    "- **forward** - Defining how data should flow through the network during a forward pass (network structure definition). The PyTorch library automatically creates a method for backward passes based on this structure."
   ]
  },
  {
   "cell_type": "code",
   "execution_count": null,
   "id": "1159ae9a",
   "metadata": {},
   "outputs": [],
   "source": [
    "class SpectralNet(nn.Module):\n",
    "    \"\"\"1D CNN for classifying pixels based on the spectral response.\"\"\"\n",
    "\n",
    "    def __init__(self, args):\n",
    "        \"\"\"\n",
    "        Initialize the SpectralNet model.\n",
    "\n",
    "        n_channels, int, number of input channel\n",
    "        size, int list, size of the feature maps of convs for the encoder\n",
    "        n_class = int,  the number of classes\n",
    "        \"\"\"\n",
    "        # necessary for all classes extending the module class\n",
    "        super(SpectralNet, self).__init__()\n",
    "\n",
    "        self.maxpool = nn.MaxPool1d(2, return_indices=False)\n",
    "        self.dropout = nn.Dropout(p=0.5, inplace=False)\n",
    "\n",
    "        self.n_channels = args['n_channel']\n",
    "        self.size = args['layer_width']\n",
    "        self.n_class = args['n_class']\n",
    "\n",
    "        # Encoder layer definitions\n",
    "        def conv_layer_1d(in_ch, out_ch, k_size=3, conv_bias=False):\n",
    "            \"\"\"Create default conv layer.\"\"\"\n",
    "            return nn.Sequential(nn.Conv1d(in_ch, out_ch, kernel_size=k_size,\n",
    "                                           bias=conv_bias),\n",
    "                                 nn.BatchNorm1d(out_ch), nn.ReLU())\n",
    "\n",
    "        def fconnected_layer(in_ch, out_ch, mlp_bias=False):\n",
    "            \"\"\"Create default linear layer.\"\"\"\n",
    "            return nn.Sequential(nn.Linear(in_ch, out_ch, bias=mlp_bias),\n",
    "                                 nn.BatchNorm1d(out_ch), nn.ReLU())\n",
    "\n",
    "        self.c1 = conv_layer_1d(self.n_channels, self.size[0])\n",
    "        self.c2 = conv_layer_1d(self.size[0], self.size[1])\n",
    "        self.c3 = conv_layer_1d(self.size[1], self.size[2])\n",
    "\n",
    "        self.c4 = conv_layer_1d(self.size[2], self.size[3])\n",
    "        self.c5 = conv_layer_1d(self.size[3], self.size[4])\n",
    "        self.c6 = conv_layer_1d(self.size[4], self.size[5])\n",
    "        \n",
    "        self.c7 = conv_layer_1d(self.size[5], self.size[6])\n",
    "        self.c8 = conv_layer_1d(self.size[6], self.size[7])\n",
    "        self.c9 = conv_layer_1d(self.size[7], self.size[8])\n",
    "\n",
    "        self.flatten = nn.Flatten()\n",
    "\n",
    "        self.l1 = fconnected_layer(self.size[9], self.size[10])\n",
    "        self.l2 = fconnected_layer(self.size[10], self.size[11])\n",
    "        self.l3 = fconnected_layer(self.size[11], self.size[12])\n",
    "        # Final classifying layer\n",
    "        self.classifier = nn.Linear(self.size[12], self.n_class)\n",
    "\n",
    "        # Weight initialization\n",
    "        self.c1[0].apply(self.init_weights)\n",
    "        self.c2[0].apply(self.init_weights)\n",
    "        self.c3[0].apply(self.init_weights)\n",
    "        self.c4[0].apply(self.init_weights)\n",
    "        self.c5[0].apply(self.init_weights)\n",
    "        self.c6[0].apply(self.init_weights)\n",
    "        self.c7[0].apply(self.init_weights)\n",
    "        self.c8[0].apply(self.init_weights)\n",
    "        self.c9[0].apply(self.init_weights)\n",
    "        self.l1[0].apply(self.init_weights)\n",
    "        self.l2[0].apply(self.init_weights)\n",
    "        self.l3[0].apply(self.init_weights)\n",
    "\n",
    "        self.classifier.apply(self.init_weights)\n",
    "\n",
    "        if torch.cuda.is_available():  # Put the model on GPU memory\n",
    "            self.cuda()\n",
    "            torch.backends.cudnn.enabled = True\n",
    "            torch.backends.cudnn.benchmark = True\n",
    "\n",
    "    def init_weights(self, layer):\n",
    "        \"\"\"Initialise layer weights from a gaussian.\"\"\"\n",
    "        nn.init.kaiming_normal_(\n",
    "            layer.weight, mode='fan_out', nonlinearity='relu')\n",
    "\n",
    "    def forward(self, input_data):\n",
    "        \"\"\"Define model structure for the forward pass.\"\"\"\n",
    "        # Encoder\n",
    "        # Level 1\n",
    "        x1 = self.c1(input_data)\n",
    "        x2 = self.c2(x1)\n",
    "        x3 = self.c3(x2)\n",
    "        x4 = self.maxpool(x3)\n",
    "        # Level 2\n",
    "        x5 = self.c4(x4)\n",
    "        x6 = self.c5(x5)\n",
    "        x7 = self.c6(x6)\n",
    "        x8 = self.maxpool(x7)\n",
    "        # Level 3\n",
    "        x9 = self.c7(x8)\n",
    "        x10 = self.c8(x9)\n",
    "        x11 = self.c9(x10)\n",
    "        # Fully connected portion of the network (MLP)\n",
    "        x12 = self.flatten(x11)\n",
    "        x13 = self.l1(x12)\n",
    "        x14 = self.l2(x13)\n",
    "        x15 = self.l3(x14)\n",
    "        # Output\n",
    "        out = self.classifier(self.dropout(x15))\n",
    "\n",
    "        return out"
   ]
  },
  {
   "cell_type": "markdown",
   "id": "94ef313b",
   "metadata": {},
   "source": [
    "### 2.2. Functions for network training\n",
    "\n",
    "Training the network is handled by four functions:\n",
    "- __augment__ - Augments the training data by adding random noise.\n",
    "- __train__ - Trains the network for one epoch.\n",
    "- __eval__ - Evaluates the results on a validation set.\n",
    "- __train_full__ - Performs the full training loop."
   ]
  },
  {
   "cell_type": "markdown",
   "id": "inappropriate-element",
   "metadata": {},
   "source": [
    "__augment__ takes in the training tile and the corresponding reference labels. It then adds a random value (taken from a normal distribution) at each wavelength and thus slightly modifies the training data. Change _tile_number_ to see the augmentation effect for different spectral curves."
   ]
  },
  {
   "cell_type": "code",
   "execution_count": null,
   "id": "moving-delta",
   "metadata": {},
   "outputs": [],
   "source": [
    "def augment(obs, g_t):\n",
    "    \"\"\"the data augmentation function, introduces random noise.\"\"\"\n",
    "    sigma, clip= 0.002, 0.01\n",
    "    rand = torch.clamp(torch.mul(sigma, torch.randn([1,1,54])), -clip, clip)\n",
    "    obs = torch.add(obs, rand)\n",
    "\n",
    "    return obs, g_t"
   ]
  },
  {
   "cell_type": "code",
   "execution_count": null,
   "id": "human-taiwan",
   "metadata": {},
   "outputs": [],
   "source": [
    "tile_number = 400\n",
    "visualisation_utils.show_augment_spectral(preprocessed_tiles, tile_number,\n",
    "                                          augment, ds_name=ds_name)"
   ]
  },
  {
   "cell_type": "markdown",
   "id": "cheap-narrative",
   "metadata": {},
   "source": [
    "__train__ trains the network for one epoch. This function contains a for loop, which loads the training data in individual batches. Each batch of training data goes through the network, after which we compute the loss function (cross-entropy). Last step of training is performing an optimiser step, which changes the networks heights.\n",
    "\n",
    "__eval__ evaluates the results on a validation set, should be done periodically during training to check for overfitting.\n",
    "\n",
    "__train_full__ performs the full training loop. It first initialises the model and optimiser. Then the train function is called in a loop, with periodic evaluation on the validation set."
   ]
  },
  {
   "cell_type": "code",
   "execution_count": null,
   "id": "amateur-payday",
   "metadata": {},
   "outputs": [],
   "source": [
    "def train(model, optimizer, args):\n",
    "    \"\"\"train for one epoch\"\"\"\n",
    "    model.train() #switch the model in training mode\n",
    "  \n",
    "    #the DataLoader class will take care of the batching\n",
    "    loader = torch.utils.data.DataLoader(dataset, batch_size=args['batch_size'], sampler=args['train_subsampler'])\n",
    "    loader = tqdm.tqdm(loader, ncols=500)\n",
    "  \n",
    "    #will keep track of the loss\n",
    "    loss_meter = tnt.meter.AverageValueMeter()\n",
    "\n",
    "    for index, (tiles, gt) in enumerate(loader):\n",
    "    \n",
    "        optimizer.zero_grad() #put gradient to zero\n",
    "\n",
    "        tiles, gt = augment(tiles, gt)\n",
    "\n",
    "        if torch.cuda.is_available():\n",
    "            pred = model(tiles.cuda()) #compute the prediction\n",
    "        else:\n",
    "            pred = model(tiles)\n",
    "\n",
    "        loss = nn.functional.cross_entropy(pred.cpu(), gt, weight=args['class_weights'])\n",
    "        loss.backward() #compute gradients\n",
    "\n",
    "        optimizer.step() #one SGD step\n",
    "        loss_meter.add(loss.item())\n",
    "        \n",
    "    return loss_meter.value()[0]\n",
    "\n",
    "def eval(model, sampler):\n",
    "    \"\"\"evaluate results on the validation set\"\"\"\n",
    "  \n",
    "    model.eval() #switch in eval mode\n",
    "  \n",
    "    loader = torch.utils.data.DataLoader(dataset, batch_size=1, sampler=sampler)\n",
    "    loader = tqdm.tqdm(loader, ncols=500)\n",
    "  \n",
    "    loss_meter = tnt.meter.AverageValueMeter()\n",
    "\n",
    "    with torch.no_grad():\n",
    "        for index, (tiles, gt) in enumerate(loader):\n",
    "            if torch.cuda.is_available():\n",
    "                pred = model(tiles.cuda())\n",
    "                loss = nn.functional.cross_entropy(pred.cpu(), gt)\n",
    "            else:\n",
    "                pred = model(tiles)\n",
    "                loss = nn.functional.cross_entropy(pred, gt)\n",
    "            loss_meter.add(loss.item())\n",
    "\n",
    "    return loss_meter.value()[0]\n",
    "\n",
    "\n",
    "def train_full(args):\n",
    "    \"\"\"The full training loop\"\"\"\n",
    "\n",
    "    #initialize the model\n",
    "    model = SpectralNet(args)\n",
    "\n",
    "    print(f'Total number of parameters: {sum([p.numel() for p in model.parameters()])}')\n",
    "  \n",
    "    #define the Adam optimizer\n",
    "    optimizer = optim.Adam(model.parameters(), lr=args['lr'])\n",
    "    scheduler = optim.lr_scheduler.MultiStepLR(optimizer, milestones=args['scheduler_milestones'],\n",
    "                                               gamma=args['scheduler_gamma'])\n",
    "  \n",
    "    train_loss = np.empty(args['n_epoch'])\n",
    "    test_epochs = []\n",
    "    test_loss = []\n",
    "\n",
    "    for i_epoch in range(args['n_epoch']):\n",
    "        #train one epoch\n",
    "        print(f'Epoch #{str(i_epoch+1)}')\n",
    "        train_loss[i_epoch] = train(model, optimizer, args)\n",
    "        scheduler.step()\n",
    "\n",
    "        # Periodic testing on the validation set\n",
    "        if (i_epoch == args['n_epoch'] - 1) or ((i_epoch + 1) % args['n_epoch_test'] == 0):\n",
    "            print('Evaluation')\n",
    "            loss_test = eval(model, args['test_subsampler'])\n",
    "            test_epochs.append(i_epoch + 1)\n",
    "            test_loss.append(loss_test)\n",
    "\n",
    "    plt.figure(figsize=(10, 10))\n",
    "    plt.subplot(1,1,1,ylim=(0,5), xlabel='Epoch #', ylabel='Loss')\n",
    "    plt.plot([i+1 for i in range(args['n_epoch'])], train_loss, label='Training loss')\n",
    "    plt.plot(test_epochs, test_loss, label='Validation loss')\n",
    "    plt.legend()\n",
    "    plt.show()\n",
    "    print(train_loss)\n",
    "    print(test_loss)\n",
    "    args['loss_test'] = test_loss[-1]\n",
    "    \n",
    "    return model"
   ]
  },
  {
   "cell_type": "markdown",
   "id": "1b0b465f",
   "metadata": {},
   "source": [
    "### 2.3. Hyperparameter definition\n",
    "Training networks requires first setting several hyperparameters, please feel free to play around with them and try different values for the number of training epochs, learning rate or batch size.\n",
    "\n",
    "- __n_channel__ - number of channels, set to 1 for our task\n",
    "- __n_class__ - number of classification classes\n",
    "- __layer_width__ - number of filters in each NN layer\n",
    "- __crossval_nfolds__ - Number of folds for crossvalidation\n",
    "- __n_epoch_test__ - after how many training epochs do we validate on the validation set\n",
    "- __scheduler_milestones__ - after how many epochs do we reduce the training rate\n",
    "- __scheduler_gamma__ - by what factor do we reduce the training rate\n",
    "- __class_weights__ - training weights for individual classes, used to offset imbalanced class distribution\n",
    "\n",
    "- __n_epoch__ - how many epochs are performed during training\n",
    "- __lr__ - how fast can individual network parameters change during one training epoch\n",
    "- __batch_size__ - how many tiles should be included in each gradient descent step"
   ]
  },
  {
   "cell_type": "code",
   "execution_count": null,
   "id": "sapphire-compact",
   "metadata": {},
   "outputs": [],
   "source": [
    "args = { #Dict to store all model parameters\n",
    "    'n_channel': 1,\n",
    "    'n_class': len(unique),\n",
    "    'layer_width': [32,32,32,64,64,64,128,128,128,384,384,192,96],    # krkonose\n",
    "    #'layer_width': [16,16,16,32,32,32,64,64,64,960,480,240, 120],     # pavia city centre\n",
    "\n",
    "    'crossval_nfolds': 3,\n",
    "    'n_epoch_test': 10,          #periodicity of evaluation on test set\n",
    "    'scheduler_milestones': [60,80,95],\n",
    "    'scheduler_gamma': 0.3,\n",
    "    \n",
    "    #'class_weights': torch.tensor([0.2, 0.34, 0.033, 0.16, 0.14, 0.03, 0.014, 0.023, 0.06]),\n",
    "    'class_weights': torch.tensor([0.197, 0.343, 0.032, 0.166,\n",
    "        0.141, 0.029, 0.013, 0.022, 0.057]),\n",
    "\n",
    "    'n_epoch': 100,\n",
    "    'lr': 1e-5,\n",
    "    'batch_size': 256,\n",
    "}\n",
    "\n",
    "print(f'''Number of models to be trained:\n",
    "    {args['crossval_nfolds']}\n",
    "Initial learning rate:\n",
    "    {args['lr']}\n",
    "Batch size:\n",
    "    {args['batch_size']}\n",
    "Number of training epochs:\n",
    "    {args['n_epoch']}''')"
   ]
  },
  {
   "cell_type": "markdown",
   "id": "f1071a05",
   "metadata": {},
   "source": [
    "### 2.4 Network training\n",
    "\n",
    "Run the training procedure using set hyperparameters, evaluate the training/validation loss graphs produced during training to adjust hyperparameter values."
   ]
  },
  {
   "cell_type": "code",
   "execution_count": null,
   "id": "sharing-october",
   "metadata": {
    "scrolled": true
   },
   "outputs": [],
   "source": [
    "kfold = StratifiedKFold(n_splits = args['crossval_nfolds'], shuffle=True)\n",
    "trained_models = []\n",
    "for fold, (train_ids, test_ids) in enumerate(kfold.split(dataset, preprocessed_tiles['reference'])):\n",
    "    print(f'Training starts for model number {str(fold+1)}')\n",
    "    \n",
    "    a = perf_counter()\n",
    "    args['train_subsampler'] = torch.utils.data.SubsetRandomSampler(train_ids)\n",
    "    args['test_subsampler'] = torch.utils.data.SubsetRandomSampler(test_ids)\n",
    "    \n",
    "    trained_models.append((train_full(args), args['loss_test']))\n",
    "    \n",
    "    state_dict_path = join(model_save_folder, f'1D_CNN_fold_{str(fold)}.pt')\n",
    "    torch.save(trained_models[fold][0].state_dict(), state_dict_path)\n",
    "    print(f'Model saved to: {state_dict_path}')\n",
    "    \n",
    "    print(f'Training finished in {visualisation_utils.sec_to_hms(perf_counter()-a)}.')\n",
    "    print('\\n\\n')\n",
    "\n",
    "print(f'Resulting loss for individual folds: \\n{[i for _, i in trained_models]}')\n",
    "print(f'Mean loss across all folds: \\n{np.mean([i for _, i in trained_models])}')"
   ]
  },
  {
   "cell_type": "markdown",
   "id": "textile-avenue",
   "metadata": {},
   "source": [
    "## 3. Applying the network"
   ]
  },
  {
   "cell_type": "markdown",
   "id": "administrative-airplane",
   "metadata": {},
   "source": [
    "### 3.1. Loading a trained model"
   ]
  },
  {
   "cell_type": "code",
   "execution_count": null,
   "id": "backed-singing",
   "metadata": {},
   "outputs": [],
   "source": [
    "# Parameters for model definition\n",
    "args = {\n",
    "    'n_channel': 1,\n",
    "    'n_class': 9,\n",
    "    'layer_width': [32,32,32,64,64,64,128,128,128,384,384,192,96],\n",
    "    #'layer_width': [32,32,32,64,64,64,128,128,128,384,384,192,96],    # krkonose\n",
    "    #'layer_width': [16,16,16,32,32,32,64,64,64,960,480,240,120],     # pavia city centre\n",
    "}\n",
    "\n",
    "# Select which model to load by using a different filename index\n",
    "state_dict_path = join(model_save_folder, '1D_CNN_fold_0.pt')"
   ]
  },
  {
   "cell_type": "code",
   "execution_count": null,
   "id": "large-bulletin",
   "metadata": {},
   "outputs": [],
   "source": [
    "# Load the model\n",
    "model = SpectralNet(args)\n",
    "model.load_state_dict(torch.load(state_dict_path))\n",
    "model.eval()"
   ]
  },
  {
   "cell_type": "markdown",
   "id": "fundamental-material",
   "metadata": {},
   "source": [
    "### 3.2. Loading and preprocessing the data\n",
    "\n",
    "Load a raster to classify. This can be the one that we used for training, but it can also be a different raster with the same number of bands.\n",
    "\n",
    "By default, the training raster (_imagery_path_) is used."
   ]
  },
  {
   "cell_type": "code",
   "execution_count": null,
   "id": "grateful-season",
   "metadata": {},
   "outputs": [],
   "source": [
    "tile_shape = (1, 1)\n",
    "overlap = 0"
   ]
  },
  {
   "cell_type": "code",
   "execution_count": null,
   "id": "juvenile-hollywood",
   "metadata": {},
   "outputs": [],
   "source": [
    "start = perf_counter()\n",
    "# Load raster\n",
    "raster_orig = image_preprocessing.read_gdal_with_geoinfo(imagery_path) # Krkonose\n",
    "#raster_orig = image_preprocessing.read_pavia_centre(imagery_path, out_shape=(1088, 1088, 102)) # Pavia\n",
    "\n",
    "# Split raster into tiles\n",
    "dataset_full_tiles = image_preprocessing.run_tiling_dims(raster_orig['imagery'],\n",
    "                        out_shape=tile_shape, out_overlap=overlap)\n",
    "# Normalize tiles\n",
    "dataset_full = image_preprocessing.normalize_tiles_1d(dataset_full_tiles, nodata_vals=[0])\n",
    "# Convert to Pytorch TensorDataset\n",
    "dataset = tnt.dataset.TensorDataset(dataset_full['imagery'])\n",
    "\n",
    "print('')\n",
    "print(f'Loading and preprocessing the imagery took {visualisation_utils.sec_to_hms(perf_counter() - start)}.')"
   ]
  },
  {
   "cell_type": "markdown",
   "id": "suitable-receipt",
   "metadata": {},
   "source": [
    "### 3.3. Applying the CNN\n",
    "The following snippet applies the CNN.\n",
    "This may take several hours, given that the network has to be applied to each pixel separately - almost 1.2 million times (1088 * 1088 = 1 183 744)."
   ]
  },
  {
   "cell_type": "code",
   "execution_count": null,
   "id": "neutral-hopkins",
   "metadata": {
    "scrolled": true
   },
   "outputs": [],
   "source": [
    "timer_start = perf_counter()\n",
    "arr_class = inference_utils.combine_tiles_1d(model, dataset, tile_shape, overlap, dataset_full_tiles['dimensions'])\n",
    "print(f'Model applied to all tiles in {visualisation_utils.sec_to_hms(perf_counter() - timer_start)}.')"
   ]
  },
  {
   "cell_type": "markdown",
   "id": "geographic-calvin",
   "metadata": {},
   "source": [
    "You can also visualise the result:"
   ]
  },
  {
   "cell_type": "code",
   "execution_count": null,
   "id": "hidden-methodology",
   "metadata": {
    "scrolled": true
   },
   "outputs": [],
   "source": [
    "visualisation_utils.show_classified(raster_orig['imagery'][:, :, [25, 15, 5]],\n",
    "                                    loaded_raster['reference'],\n",
    "                                    np.add(arr_class, 1), ds_name=ds_name)"
   ]
  },
  {
   "cell_type": "markdown",
   "id": "dimensional-functionality",
   "metadata": {},
   "source": [
    "### 3.4. Export Resulting Raster\n",
    "\n",
    "Export the resulting classified raster into _out_path_ for distribution or further analysis (e.g. validation in GIS)."
   ]
  },
  {
   "cell_type": "code",
   "execution_count": null,
   "id": "rocky-bargain",
   "metadata": {},
   "outputs": [],
   "source": [
    "print(f'The classified result gets saved to {out_path}')\n",
    "inference_utils.export_result(out_path, arr_class, raster_orig['geoinfo'])"
   ]
  },
  {
   "cell_type": "markdown",
   "id": "e0be82ee",
   "metadata": {},
   "source": [
    "## 4. Evaluate Classification Result"
   ]
  },
  {
   "cell_type": "markdown",
   "id": "choice-beach",
   "metadata": {},
   "source": [
    "### 4.1. Load Test Raster\n",
    "\n",
    "The test raster is loaded using the same functions as before."
   ]
  },
  {
   "cell_type": "code",
   "execution_count": null,
   "id": "afraid-width",
   "metadata": {},
   "outputs": [],
   "source": [
    "print(f'The classification is evaluated using the test raster: {test_path}')\n",
    "test_arr = image_preprocessing.read_gdal(imagery_path, test_path)"
   ]
  },
  {
   "cell_type": "code",
   "execution_count": null,
   "id": "neural-crowd",
   "metadata": {},
   "outputs": [],
   "source": [
    "# Reshaping both rasters to 1D\n",
    "test_flat = test_arr['reference'].reshape(test_arr['reference'].shape[0] * test_arr['reference'].shape[1])\n",
    "predicted_flat = arr_class.reshape(test_arr['reference'].shape[0] * test_arr['reference'].shape[1])\n",
    "\n",
    "# Filtering to only include pixels with reference data\n",
    "predicted_filtered = predicted_flat[test_flat > 0]\n",
    "test_filtered = test_flat[test_flat > 0]"
   ]
  },
  {
   "cell_type": "markdown",
   "id": "fitted-paris",
   "metadata": {},
   "source": [
    "### 4.2. Compute Accuracy Metrics"
   ]
  },
  {
   "cell_type": "code",
   "execution_count": null,
   "id": "purple-sapphire",
   "metadata": {
    "scrolled": true
   },
   "outputs": [],
   "source": [
    "print(classification_report(test_filtered, predicted_filtered,\n",
    "                            target_names=class_names[1:]))"
   ]
  },
  {
   "cell_type": "markdown",
   "id": "9b2c93ce",
   "metadata": {},
   "source": [
    "### 4.3. Show Confusion Matrix"
   ]
  },
  {
   "cell_type": "code",
   "execution_count": null,
   "id": "5af2ee9a",
   "metadata": {},
   "outputs": [],
   "source": [
    "visualisation_utils.show_confusion_matrix(test_filtered, predicted_filtered,\n",
    "                                          ds_name=ds_name)"
   ]
  },
  {
   "cell_type": "markdown",
   "id": "stupid-winner",
   "metadata": {},
   "source": [
    "## 5. Sample Solution\n",
    "\n",
    "We have generated this result using these training parameters (please note that just using the same training parameters will not yield the same result, as the network is randomly initailised):\n",
    "\n",
    "- Number of epochs: 100\n",
    "- Batch Size: 256\n",
    "- Learning Rate: 1e-5\n",
    "- Learning Rate reduced after Epochs #: [60,80,95]\n",
    "- Learning Rate reduced by: 0.3\n",
    "- Class Weights:\n",
    "        [0.197, 0.343, 0.032,\n",
    "         0.166, 0.141, 0.029,\n",
    "         0.013, 0.022, 0.057]\n",
    "- Number of filters in each layer:  \n",
    "        [32,32,32,64,64,64,128,128,128,384,384,192,96]"
   ]
  },
  {
   "cell_type": "code",
   "execution_count": null,
   "id": "integrated-album",
   "metadata": {},
   "outputs": [],
   "source": [
    "# Read test reference\n",
    "test_arr = image_preprocessing.read_gdal(imagery_path, test_path)\n",
    "test_flat = test_arr['reference'].reshape(\n",
    "    test_arr['reference'].shape[0]*test_arr['reference'].shape[1])\n",
    "test_filtered = test_flat[test_flat > 0]\n",
    "\n",
    "# Read sample result\n",
    "sample_arr = image_preprocessing.read_gdal(imagery_path, sample_result_path)\n",
    "sample_flat = sample_arr['reference'].reshape(sample_arr['reference'].shape[0] * sample_arr['reference'].shape[1])\n",
    "sample_filtered = sample_flat[test_flat > 0]"
   ]
  },
  {
   "cell_type": "code",
   "execution_count": null,
   "id": "d262c9ea",
   "metadata": {},
   "outputs": [],
   "source": [
    "# Visualise the sample result\n",
    "visualisation_utils.show_classified(raster_orig['imagery'][:, :, [25, 15, 5]],\n",
    "                                    loaded_raster['reference'],\n",
    "                                    sample_arr['reference'],\n",
    "                                    ds_name=ds_name)"
   ]
  },
  {
   "cell_type": "code",
   "execution_count": null,
   "id": "9c80c677",
   "metadata": {},
   "outputs": [],
   "source": [
    "# Print a classification report for the sample result\n",
    "print(classification_report(test_filtered, sample_filtered,\n",
    "                            target_names=class_names[1:]))"
   ]
  },
  {
   "cell_type": "code",
   "execution_count": null,
   "id": "b39d2f3c",
   "metadata": {},
   "outputs": [],
   "source": [
    "# Show a Confusion matrix for the sample result\n",
    "visualisation_utils.show_confusion_matrix(test_filtered, sample_filtered,\n",
    "                                          ds_name=ds_name)"
   ]
  },
  {
   "cell_type": "code",
   "execution_count": null,
   "id": "2a6e1ab6",
   "metadata": {},
   "outputs": [],
   "source": []
  }
 ],
 "metadata": {
  "kernelspec": {
   "display_name": "Python 3",
   "language": "python",
   "name": "python3"
  },
  "language_info": {
   "codemirror_mode": {
    "name": "ipython",
    "version": 3
   },
   "file_extension": ".py",
   "mimetype": "text/x-python",
   "name": "python",
   "nbconvert_exporter": "python",
   "pygments_lexer": "ipython3",
   "version": "3.8.10"
  }
 },
 "nbformat": 4,
 "nbformat_minor": 5
}
