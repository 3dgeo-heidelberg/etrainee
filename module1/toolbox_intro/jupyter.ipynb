{
 "cells": [
  {
   "cell_type": "markdown",
   "metadata": {},
   "source": [
    "\n",
    "# Jupyter Notebooks and a few python basics\n",
    "\n",
    "Here, you can learn how to use a Jupyter Notebook for interactive computing and for documenting a workflow.\n",
    "\n",
    "At this opportunity we will also have a look at a few selected Python basics.\n",
    "\n",
    "## Jupyter Notebooks\n",
    "\n",
    "Program code can be run by executing \"normal\" scripts (e.g. `*.py` files), as we did before. Especially for experimenting or learning, a great alternative is to run pieces of code interactively within **Jupyter Notebooks**. The Jupyter Notebook format (`*.ipynb`, short for “IPython notebook”) can contain code cells along with text explanations as well as graphics and other output in between. This makes the Notebooks also a great format for documenting your work and for explaining it to others. The E-TRAINEE course and many other tutorials make extensive use of such Notebooks.\n",
    "\n",
    "Although Jupyter Notebooks are plain text files, it makes not much sense to view or edit them in a normal plain text editor (in contrast to `*.py` files for instance). They are made to be edited and run in dedicated web-based or desktop applications that can process and display them properly, such as [JupyterLab](https://jupyterlab.readthedocs.io/en/latest/), [JupyterHub](https://jupyterhub.readthedocs.io/en/latest), [Jupyter Desktop](https://github.com/jupyterlab/jupyterlab-desktop), or [Visual Studio Code](https://code.visualstudio.com/docs/languages/python#_jupyter-notebooks). We suggest the latter, amongst others because VSCode is also a good editor for \"normal\" Python scripts.\n",
    "\n",
    "### Create a new Notebook\n",
    "\n",
    "In VSCode, use the shortcut `CTRL + Shift + P` to show and run commands for VSCode at the top of your screen and then type/select \"Create: New Jupyter Notebook\". Don't forget to save your Notebook if you want to continue with it.\n",
    "\n",
    "There are two different \"modes\" when you are in Jupyter Notebook: *Navigation mode* and *cell editing mode*. You can switch between the two modes with *Enter* and *Esc*, respectively. A key feature of Notebooks is that they are usually divided into different cells.\n",
    "\n",
    "#### Code cells\n",
    "\n",
    "As the name suggests, code cells are used to edit and write new code in a programming language such as Python, Julia or R. When a code cell is executed, its code is sent to the kernel associated with the Notebook. If the kernel can process it (right kernel for the language, required packages installed, no bugs in the code, ...), the results that are returned from that computation are displayed in the Notebook as the cell's output. Such output can be text, tables or figures.\n",
    "\n",
    "Your new Notebook will contain one first code cell and look more or less like this:\n",
    "\n",
    "<img src=\"toolbox_media/jupyter_code_cell_1.PNG\" title=\"A new Jupyter Notebook in VSCode.\" height=\"100\">\n",
    "\n",
    "There are (amongst others) options to\n",
    "\n",
    "* *Select the Kernel* in the upper right corner\n",
    "* *Add a code cell* or *Add a Markdown cell* in the upper left corner (appears also below/between existing cells in the document if you are pointing there with your mouse)\n",
    "* *Run a single code cell* (play button left of the cell) or *run all code cells* (play button above the document)\n",
    "* *Select the language mode* of the cell in the bottom right corner (default is Markdown or Python)\n",
    "\n",
    "If you click into a cell you get additional options, such as for *rendering a Markdown cell* (stop editing; hook in the upper right corner of the cell), for *running code*, or to delete the cell.\n",
    "\n",
    "#### Text cells\n",
    "\n",
    "For writing descriptive text, we can insert *Markdown cells*. Markdown is a simple and easy-to-use markup language that allows us to format these text cells (e.g., with headings, emphasis, lists of bullet points, etc.). Actuallly, the E-TRAINEE course documents are more or less based on Jupyter Notebooks and pure Markdown documents (with some HTML syntax for more advanced formatting in between).\n",
    "\n",
    "Try to create a simple example with a few code and text cells! Have a short look at [this guide](https://www.markdownguide.org/basic-syntax/) to the Markdown syntax and try to create text with two heading levels and parts of the text highlighted in **bold** or *italic*.\n",
    "\n",
    "### Open an existing Notebook\n",
    "\n",
    "What you are viewing here (if you are on the course website) is actually a Jupyter Notebook converted to HTML and rendered in your browser. To be able to use it *interactively* (modify and execute cells), you have to download it as `*.ipynb` file from GitHub (download button at the upper right of this Notebook) and open it in VSCode (or JupiterLab)."
   ]
  },
  {
   "cell_type": "markdown",
   "metadata": {},
   "source": [
    "## Try some interactive Python\n",
    "\n",
    "Once you have downloaded this Notebook, you can use it interactively, that means run code cells, see their output, modify the code (if you want) and run it again to see what changes. Let's try this!\n",
    "\n",
    "Along this way we learn or repeat also some Python basics. However, this is by far not a comprehensive crash course and if you are new to Python or need a more thorough refresher of your coding skills, please have a look at the [official Python tutorial](https://docs.python.org/3/tutorial/index.html)<!--or our list of [suggested learning ressoures for Python](). Add such a list and link it!-->."
   ]
  },
  {
   "cell_type": "markdown",
   "metadata": {},
   "source": [
    "### Print messages"
   ]
  },
  {
   "cell_type": "code",
   "execution_count": null,
   "metadata": {},
   "outputs": [],
   "source": [
    "print(\"Hello world!\")"
   ]
  },
  {
   "cell_type": "markdown",
   "metadata": {},
   "source": [
    "Try skipping this cell and run the next one first. What happens?"
   ]
  },
  {
   "cell_type": "code",
   "execution_count": null,
   "metadata": {},
   "outputs": [],
   "source": [
    "my_string = \"Hello world!\"      # don't run this cell, run the next one first"
   ]
  },
  {
   "cell_type": "code",
   "execution_count": null,
   "metadata": {},
   "outputs": [],
   "source": [
    "print(my_string)                # this only works if we have run the cell above already (try)"
   ]
  },
  {
   "cell_type": "markdown",
   "metadata": {},
   "source": [
    "### Loops and flow control\n",
    "\n",
    "For repeated execution of a task, `for` loops are important."
   ]
  },
  {
   "cell_type": "code",
   "execution_count": null,
   "metadata": {},
   "outputs": [],
   "source": [
    "for n in range(3):\n",
    "    print(\"Hello world!\")\n",
    "    print(f\"This is iteration number {n}\")\n",
    "print(\"Finished!\")"
   ]
  },
  {
   "cell_type": "markdown",
   "metadata": {},
   "source": [
    "This example shows several things:\n",
    "\n",
    "* The colon `:` denotes the beginning of a definition (here of the repeated code under the for loop).\n",
    "* Python defaults to counting from 0 rather than from 1.\n",
    "* Function calls in Python always use parentheses: `print()`\n",
    "* Code blocks are identified through indentations.\n",
    "* We can supply a variable to a string, in this case we supply the current value of `n` to an [f-string](https://docs.python.org/3/tutorial/inputoutput.html#tut-f-strings) (a string preceeded by the letter \"f\")."
   ]
  },
  {
   "cell_type": "markdown",
   "metadata": {},
   "source": [
    "For logical decisions, Python has `if` statements."
   ]
  },
  {
   "cell_type": "code",
   "execution_count": null,
   "metadata": {},
   "outputs": [],
   "source": [
    "if n > 2:\n",
    "    print(\"n is greater than 2!\")\n",
    "else:\n",
    "    print(\"n is not greater than 2!\")"
   ]
  },
  {
   "cell_type": "markdown",
   "metadata": {},
   "source": [
    "The `while` statement can be used to repeat code as long as a condition is met (conditional loop)."
   ]
  },
  {
   "cell_type": "code",
   "execution_count": null,
   "metadata": {},
   "outputs": [],
   "source": [
    "m = 0\n",
    "while m < 3:\n",
    "    print(f\"This is iteration number {m}.\")\n",
    "    m += 1\n",
    "print(\"Now the condition is no longer met.\")"
   ]
  },
  {
   "cell_type": "markdown",
   "metadata": {},
   "source": [
    "### Loading packages\n",
    "\n",
    "To make the functions defined in an installed Python package available to us, we must load the package using the `import` keyword. Let's load the `pandas` package, which is popular for working with tabular data."
   ]
  },
  {
   "cell_type": "code",
   "execution_count": 8,
   "metadata": {},
   "outputs": [],
   "source": [
    "import pandas"
   ]
  },
  {
   "cell_type": "markdown",
   "metadata": {},
   "source": [
    "Now, we can access any function from the package, by typing pandas.*. For example, create a Series object (a labelled 1-dimensional array):"
   ]
  },
  {
   "cell_type": "code",
   "execution_count": null,
   "metadata": {},
   "outputs": [],
   "source": [
    "pandas.Series([1, 3, 5])"
   ]
  },
  {
   "cell_type": "markdown",
   "metadata": {},
   "source": [
    "For many packages it is common practice to import a package under a different name which is shorter to type, for example:"
   ]
  },
  {
   "cell_type": "code",
   "execution_count": 10,
   "metadata": {},
   "outputs": [],
   "source": [
    "import pandas as pd"
   ]
  },
  {
   "cell_type": "markdown",
   "metadata": {},
   "source": [
    "We can now access all of the functions in pandas using `pd.*`, instead of `pandas.*`. Let's try working on the series."
   ]
  },
  {
   "cell_type": "code",
   "execution_count": null,
   "metadata": {},
   "outputs": [],
   "source": [
    "a = pd.Series([1, 3, 5])\n",
    "b = 3                     # What is different if b = 3.0 (instead of 3)?\n",
    "c = a + b\n",
    "c"
   ]
  },
  {
   "cell_type": "markdown",
   "metadata": {},
   "source": [
    "While importing packages or their submodules under a short name is somehow a matter of taste, you should maybe not do this too excessively. Sometimes it is preferable to have a longer but also more informative line of code (you won't remember all packages and submodules imported in the beginning of a long script). For widely used packages, however, it is more or less a convention to abbreviate them and you will also get used to these short names. Examples used in the course are:\n",
    "\n",
    "```python\n",
    "import pandas as pd\n",
    "import geopandas as gpd\n",
    "import numpy as np\n",
    "import xarray as xr\n",
    "import seaborn as sns\n",
    "import matplotlib.pyplot as plt         # Matplotlib's pyplot interface (a submodule of thematplotlib package)\n",
    "from matplotlib import pyplot as plt    # Alternative way to import only the pyplot submodule\n",
    "```"
   ]
  },
  {
   "cell_type": "markdown",
   "metadata": {},
   "source": [
    "### Some basic plotting with Matplotlib\n",
    "\n",
    "A nice feature of Jupyter Notebooks is that they can contain also graphical output, such as figures generated by the `matplotlib` library."
   ]
  },
  {
   "cell_type": "code",
   "execution_count": 6,
   "metadata": {},
   "outputs": [],
   "source": [
    "import numpy as np\n",
    "import matplotlib.pyplot as plt"
   ]
  },
  {
   "cell_type": "code",
   "execution_count": 23,
   "metadata": {},
   "outputs": [
    {
     "data": {
      "text/plain": [
       "Text(0.5, 1.0, 'This is a great title')"
      ]
     },
     "execution_count": 23,
     "metadata": {},
     "output_type": "execute_result"
    },
    {
     "data": {
      "image/png": "[encoded data removed]",
      "text/plain": [
       "<Figure size 640x480 with 1 Axes>"
      ]
     },
     "metadata": {},
     "output_type": "display_data"
    }
   ],
   "source": [
    "theta = np.linspace(0 , 20, 100)            # Create some data\n",
    "sintheta = np.sin(theta)\n",
    "\n",
    "plt.plot(theta, sintheta, label='y = sin(x)', color='purple')\n",
    "plt.grid()\n",
    "plt.legend()\n",
    "plt.xlabel('Theta')\n",
    "plt.ylabel('Sintheta')\n",
    "plt.title('This is a great title', fontsize=14)"
   ]
  },
  {
   "cell_type": "markdown",
   "metadata": {},
   "source": [
    "For this plot we used the *functional* (`pyplot`) interface of `matplotlib`. Various function calls add elements (like a title or a legend) to the same figure and or modify this figure. While we can create rather simple plots quickly and easily with this approach, the possibilities for customization and complexity in a figure are somehow limited.\n",
    "\n",
    "The *object-oriented* interface of `matplotlib` provides more advanced options and is suited to generate even very complex and specific figures. If you want to learn more about the two different plotting approaches of `matplotlib` read the [documentation](https://matplotlib.org/stable/users/explain/figure/api_interfaces.html#api-interfaces) or the blog posts [here](https://matplotlib.org/matplotblog/posts/pyplot-vs-object-oriented-interface/) and [here](https://danielmuellerkomorowska.com/2020/07/05/matplotlib-and-the-object-oriented-interface/). In the course we will use also other, more specific plotting libraries (e.g., to visualize geographic data or for statistical visualizations) which are built on top of `matplotlib`."
   ]
  },
  {
   "cell_type": "markdown",
   "metadata": {},
   "source": [
    "Now you should be able to use Jupyter Notebooks for interactive Python coding. For more detailed information on Jupyter Notebooks please see the [user documentation](https://jupyter-notebook.readthedocs.io/en/latest/user-documentation.html). For a quickstart to geographic data in Python continue [here](./geopandas.html)."
   ]
  }
 ],
 "metadata": {
  "kernelspec": {
   "display_name": "geopython",
   "language": "python",
   "name": "python3"
  },
  "language_info": {
   "codemirror_mode": {
    "name": "ipython",
    "version": 3
   },
   "file_extension": ".py",
   "mimetype": "text/x-python",
   "name": "python",
   "nbconvert_exporter": "python",
   "pygments_lexer": "ipython3",
   "version": "3.10.13"
  }
 },
 "nbformat": 4,
 "nbformat_minor": 2
}
